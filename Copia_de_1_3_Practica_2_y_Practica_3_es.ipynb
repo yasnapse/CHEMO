{
  "cells": [
    {
      "cell_type": "markdown",
      "metadata": {
        "id": "view-in-github",
        "colab_type": "text"
      },
      "source": [
        "<a href=\"https://colab.research.google.com/github/yasnapse/CHEMO/blob/main/Copia_de_1_3_Practica_2_y_Practica_3_es.ipynb\" target=\"_parent\"><img src=\"https://colab.research.google.com/assets/colab-badge.svg\" alt=\"Open In Colab\"/></a>"
      ]
    },
    {
      "cell_type": "markdown",
      "metadata": {
        "id": "vIp0QCjaul9N"
      },
      "source": [
        "# Práctica 2: Expresión del material genético\n",
        "\n",
        "> **Nota:** Este libro esta disponible de dos maneras:\n",
        "> 1. Descargando el repositorio y siguiendo las instrucciones que estan en el archivo [README.md](https://github.com/ramirezlab/CHEMO/blob/main/README.md)\n",
        "> 2. Haciendo clic aquí en [![Open In Colab](https://colab.research.google.com/assets/colab-badge.svg)](https://colab.research.google.com/github/ramirezlab/CHEMO/blob/main/1_PART_ONE/1.3_Practica-2_y_Practica-3.es.ipynb)\n",
        "\n",
        "## Conceptos a trabajar\n",
        "\n",
        "La **traducción**, es la síntesis de una proteína a partir de la cadena de ARNm, esto ocurre dentro de unas proteínas llamadas ribosomas, durante este proceso, la secuencia de ARNm se lee en grupos de tres nucleótidos, llamados **codones**, los cuales, son interpretados por un **código genético** dando como resultado una codificación de aminoácido **<sup> 1 </sup>** (fig. 1), los cuales se plegarán y formarán las proteínas.\n",
        "\n",
        "<img src=\"https://github.com/ramirezlab/CHEMO/blob/main/1_PART_ONE/img/Figura4-en-es.png?raw=1\" alt=\"code\" width=\"1000\"/>\n",
        "\n",
        "*Figura 1. Código genético esencial en la expresión de proteínas donde se evidencia la formación de un codón a partir de un nucleótido (uracilo, adenina, guanina, o citocina), desde la secuencia de inicio (verde) y las de parada (rojo). Figura adaptada de: [Molecular biology of the gene, (2008), 15, 509-569]( https://books.google.com.co/books?id=7tadzgEACAAJ&dq=Molecular+biology+of+the+gene&hl=es-419&sa=X&redir_esc=y)*\n",
        "\n",
        "El ribosoma lee la secuencia en orden, buscando el codón de **inicio** AUG, el cual, a su vez codifica para el aminoácido de metionina y da comienzo a la traducción, al seguir avanzando construye la cadena de aminoácidos, es un proceso que repite muchas veces, en el que se leen las tripletas de nucleótidos y se adhiere el aminoácido correspondiente (fig. 3). La cadena resultante puede ser largas o cortas, se direccionan hasta encontrar uno de los tres codones que codifican para el **stop** (UAA, UGA o UAG) (fig. 4), al sintetizarlo, la cadena se libera del ribosoma y es modificada o combinada para formar una proteína funcional con una estructura especifica involucrada en algún proceso esencial para la célula u organismo **<sup> 2 </sup>**."
      ]
    },
    {
      "cell_type": "markdown",
      "metadata": {
        "id": "1h3LqHKoul9U"
      },
      "source": [
        "## Planteamiento del problema\n",
        "Continuando con el objetivo general, de obtener información básica de la enzima del citocromo P450, proteina anteriormente trabajada. Para ello, vamos a realizar la segunda fase implicada en la expresión génica, con el fin obtener los aminoácidos que codifican para la proteína.\n",
        "\n",
        "Primero, debemos crear un diccionario en el que se encuentre el código genético, donde especifiquen los codones (tripletas de nucleótidos) que sintetiza su correspondiente aminoácido. Debemos tener en cuenta los pares `key-value`, donde las `key` serían los codones y los `value` los aminoácidos."
      ]
    },
    {
      "cell_type": "code",
      "execution_count": null,
      "metadata": {
        "id": "mRJBiPMmul9b",
        "outputId": "8992a776-5c02-4b51-e819-ae6fe7ddb88d",
        "colab": {
          "base_uri": "https://localhost:8080/"
        }
      },
      "outputs": [
        {
          "output_type": "stream",
          "name": "stdout",
          "text": [
            "Los codones son: \n",
            "['GUU', 'GUC', 'GUA', 'GUG', 'GCU', 'GCC', 'GCA', 'GCG', 'GAU', 'GAC', 'GAA', 'GAG', 'GGU', 'GGC', 'GGA', 'GGG', 'AGA', 'AGG', 'AGU', 'AGC', 'AAU', 'AAC', 'AAA', 'AAG', 'ACU', 'ACC', 'ACA', 'ACG', 'AUU', 'AUC', 'AUA', 'AUG', 'CGU', 'CGC', 'CGA', 'CGG', 'CCU', 'CCC', 'CCA', 'CCG', 'CAU', 'CAC', 'CAA', 'CAG', 'UUU', 'UUC', 'UUA', 'UUG', 'UCU', 'UCC', 'UCA', 'UCG', 'UAU', 'UAC', 'UAA', 'UAG', 'UGU', 'UGC', 'UGA', 'UGG', 'CUU', 'CUC', 'CUA', 'CUG']\n",
            "-----------------\n",
            "Los aminoácidos son: \n",
            "['V', 'V', 'V', 'V', 'A', 'A', 'A', 'A', 'D', 'D', 'E', 'E', 'G', 'G', 'G', 'G', 'R', 'R', 'S', 'S', 'N', 'N', 'K', 'K', 'T', 'T', 'T', 'T', 'I', 'I', 'I', 'M', 'R', 'R', 'R', 'R', 'P', 'P', 'P', 'P', 'H', 'H', 'Q', 'Q', 'F', 'F', 'L', 'L', 'S', 'S', 'S', 'S', 'Y', 'Y', 'STOP', 'STOP', 'C', 'C', 'STOP', 'W', 'L', 'L', 'L', 'L']\n"
          ]
        }
      ],
      "source": [
        "#Diccionario de codones para la traduccion\n",
        "código_genetico = {\"GUU\": \"V\", \"GUC\": \"V\", \"GUA\": \"V\", \"GUG\": \"V\", \"GCU\": \"A\", \"GCC\": \"A\", \"GCA\": \"A\", \"GCG\": \"A\",\n",
        "                \"GAU\": \"D\", \"GAC\": \"D\", \"GAA\": \"E\", \"GAG\": \"E\", \"GGU\": \"G\", \"GGC\": \"G\", \"GGA\": \"G\", \"GGG\": \"G\",\n",
        "                \"AGA\": \"R\", \"AGG\": \"R\", \"AGU\": \"S\", \"AGC\": \"S\", \"AAU\": \"N\", \"AAC\": \"N\", \"AAA\": \"K\", \"AAG\": \"K\",\n",
        "                \"ACU\": \"T\", \"ACC\": \"T\", \"ACA\": \"T\", \"ACG\": \"T\", \"AUU\": \"I\", \"AUC\": \"I\", \"AUA\": \"I\", \"AUG\": \"M\",\n",
        "                \"CGU\": \"R\", \"CGC\": \"R\", \"CGA\": \"R\", \"CGG\": \"R\", \"CCU\": \"P\", \"CCC\": \"P\", \"CCA\": \"P\", \"CCG\": \"P\",\n",
        "                \"CAU\": \"H\", \"CAC\": \"H\", \"CAA\": \"Q\", \"CAG\": \"Q\", \"UUU\": \"F\", \"UUC\": \"F\", \"UUA\": \"L\", \"UUG\": \"L\",\n",
        "                \"UCU\": \"S\", \"UCC\": \"S\", \"UCA\": \"S\", \"UCG\": \"S\", \"UAU\": \"Y\", \"UAC\": \"Y\", \"UAA\": \"STOP\", \"UAG\": \"STOP\",\n",
        "                \"UGU\": \"C\", \"UGC\": \"C\", \"UGA\": \"STOP\", \"UGG\": \"W\", \"CUU\": \"L\", \"CUC\": \"L\", \"CUA\": \"L\", \"CUG\": \"L\"}\n",
        "\n",
        "print(f'Los codones son: \\n{list(código_genetico.keys())}')\n",
        "print('-----------------')\n",
        "print(f'Los aminoácidos son: \\n{list(código_genetico.values())}')"
      ]
    },
    {
      "cell_type": "markdown",
      "metadata": {
        "id": "u6SY8tVXul9e"
      },
      "source": [
        "## Estructuras de control\n",
        "A continuación, emplearemos las **estructuras de control** para poder analizar la secuencia de ARN del citocromo `ARN_CYP2C9` para sintetizar la proteína, siguiendo estos pasos:\n",
        "1. Identificar el inicio de la proteína: AUG\n",
        "2. Dividir de tres en tres\n",
        "3. Encontrar el stop (pueden ser varios, mirar diccionario)\n",
        "4. Imprimir la proteína: AUG(codones - de tres en tres)STOP"
      ]
    },
    {
      "cell_type": "code",
      "execution_count": null,
      "metadata": {
        "colab": {
          "base_uri": "https://localhost:8080/"
        },
        "id": "LGtN6dSIul9e",
        "outputId": "f8db691e-e9a0-4f9c-a3f5-3f9384d5299f"
      },
      "outputs": [
        {
          "output_type": "stream",
          "name": "stdout",
          "text": [
            ">> Proteína encontrada\n",
            "Proteina: MDSLVVLVLCLSCLLLLSLWRQSSGRGKLPPGPTPLPVIGNILQIGIKDISKSLTNLSKVYGPVFTLYFGLKPIVVLHGYEAVKEALIDLGEEFSGRGIFPLAERANRGFGIVFSNGKKWKEIRRFSLMTLRNFGMGKRSIEDRVQEEARCLVEELRKTKASPCDPTFILGCAPCNVICSIIFHKRFDYKDQQFLNLMEKLNENIKILSSPWIQICNNFSPIIDYFPGTHNKLLKNVAFMKSYILEKVKEHQESMDMNNPQDFIDCFLMKMEKEKHNQPSEFTIESLENTAVDLFGAGTETTSTTLRYALLLLLKHPEVTAKVQEEIERVIGRNRSPCMQDRSHMPYTDAVVHEVQRYIDLLPTSLPHAVTCDIKFRNYLIPKGTTILISLTSVLHDNKEFPNPEMFDPHHFLDEGGNFKKSKYFMPFSAGKRICVGEALAGMELFLFLTSILQNFNLKSLVDPKNLDTTPVVNGFASVPPFYQLCFIPV\n"
          ]
        }
      ],
      "source": [
        "import requests\n",
        "\n",
        "# Definir el enlace URL del documento\n",
        "url = \"https://raw.githubusercontent.com/ramirezlab/CHEMO/main/1_PART_ONE/data/sec_CYP2C9.fasta\"\n",
        "\n",
        "# Realizar una solicitud HTTP GET al enlace URL\n",
        "response = requests.get(url)\n",
        "\n",
        "if response.status_code == 200:\n",
        "    # Obtener el contenido del archivo desde la respuesta\n",
        "    sec_CYP2C9 = response.text\n",
        "\n",
        "    # Procesar la secuencia de manera similar al código anterior\n",
        "    ADN_CYP2C9 = ''.join(sec_CYP2C9.split('\\n')[1:])\n",
        "    ARN_CYP2C9 = ADN_CYP2C9.replace(\"T\", \"U\")\n",
        "    run = True\n",
        "    i = 0\n",
        "    for i in range(len(ARN_CYP2C9)):\n",
        "        if ARN_CYP2C9[i:i + 3] == 'AUG':  # Inicio de proteína encontrado\n",
        "            ARN_CYP2C9 = ARN_CYP2C9[i:]  # Recorte de secuencia. Nuevo ARN\n",
        "            break\n",
        "        if i >= (len(ARN_CYP2C9) - 3):  # Inicio de proteína NO encontrado\n",
        "            print('No se encontró el codón de inicio AUG')\n",
        "            ARN_CYP2C9 = ARN_CYP2C9[i:i + 3]\n",
        "            run = False\n",
        "            break\n",
        "\n",
        "    proteina = list()\n",
        "    if run:\n",
        "        i = 0\n",
        "        # Inicio de la traducción\n",
        "        while i <= len(ARN_CYP2C9) - 2:\n",
        "            codon = código_genetico[ARN_CYP2C9[i:i + 3]]\n",
        "            proteina.append(codon)\n",
        "            i += 3\n",
        "            if codon == 'STOP':\n",
        "                print(f'>> Proteína encontrada')\n",
        "                ARN_CYP2C9 = ARN_CYP2C9[i:]  # Nuevo ARN (recortado)\n",
        "                proteina = proteina[:-1]\n",
        "                texto_proteina = ''.join(proteina)\n",
        "                print(f'Proteina: {texto_proteina}')\n",
        "                break\n",
        "            if i >= (len(ARN_CYP2C9) - 3):\n",
        "                print('No se encontró el codón STOP')\n",
        "                ARN_CYP2C9 = ARN_CYP2C9[i:i + 3]\n",
        "                break\n",
        "\n",
        "else:\n",
        "    print(f\"Error al acceder al archivo. Código de estado: {response.status_code}\")\n"
      ]
    },
    {
      "cell_type": "code",
      "execution_count": null,
      "metadata": {
        "id": "-oLTVKLiul9f",
        "outputId": "d4ad6746-6957-45c4-e6de-351f0dc0fbae",
        "colab": {
          "base_uri": "https://localhost:8080/"
        }
      },
      "outputs": [
        {
          "output_type": "stream",
          "name": "stdout",
          "text": [
            "['M', 'D', 'S', 'L', 'V', 'V', 'L', 'V', 'L', 'C', 'L', 'S', 'C', 'L', 'L', 'L', 'L', 'S', 'L', 'W', 'R', 'Q', 'S', 'S', 'G', 'R', 'G', 'K', 'L', 'P', 'P', 'G', 'P', 'T', 'P', 'L', 'P', 'V', 'I', 'G', 'N', 'I', 'L', 'Q', 'I', 'G', 'I', 'K', 'D', 'I', 'S', 'K', 'S', 'L', 'T', 'N', 'L', 'S', 'K', 'V', 'Y', 'G', 'P', 'V', 'F', 'T', 'L', 'Y', 'F', 'G', 'L', 'K', 'P', 'I', 'V', 'V', 'L', 'H', 'G', 'Y', 'E', 'A', 'V', 'K', 'E', 'A', 'L', 'I', 'D', 'L', 'G', 'E', 'E', 'F', 'S', 'G', 'R', 'G', 'I', 'F', 'P', 'L', 'A', 'E', 'R', 'A', 'N', 'R', 'G', 'F', 'G', 'I', 'V', 'F', 'S', 'N', 'G', 'K', 'K', 'W', 'K', 'E', 'I', 'R', 'R', 'F', 'S', 'L', 'M', 'T', 'L', 'R', 'N', 'F', 'G', 'M', 'G', 'K', 'R', 'S', 'I', 'E', 'D', 'R', 'V', 'Q', 'E', 'E', 'A', 'R', 'C', 'L', 'V', 'E', 'E', 'L', 'R', 'K', 'T', 'K', 'A', 'S', 'P', 'C', 'D', 'P', 'T', 'F', 'I', 'L', 'G', 'C', 'A', 'P', 'C', 'N', 'V', 'I', 'C', 'S', 'I', 'I', 'F', 'H', 'K', 'R', 'F', 'D', 'Y', 'K', 'D', 'Q', 'Q', 'F', 'L', 'N', 'L', 'M', 'E', 'K', 'L', 'N', 'E', 'N', 'I', 'K', 'I', 'L', 'S', 'S', 'P', 'W', 'I', 'Q', 'I', 'C', 'N', 'N', 'F', 'S', 'P', 'I', 'I', 'D', 'Y', 'F', 'P', 'G', 'T', 'H', 'N', 'K', 'L', 'L', 'K', 'N', 'V', 'A', 'F', 'M', 'K', 'S', 'Y', 'I', 'L', 'E', 'K', 'V', 'K', 'E', 'H', 'Q', 'E', 'S', 'M', 'D', 'M', 'N', 'N', 'P', 'Q', 'D', 'F', 'I', 'D', 'C', 'F', 'L', 'M', 'K', 'M', 'E', 'K', 'E', 'K', 'H', 'N', 'Q', 'P', 'S', 'E', 'F', 'T', 'I', 'E', 'S', 'L', 'E', 'N', 'T', 'A', 'V', 'D', 'L', 'F', 'G', 'A', 'G', 'T', 'E', 'T', 'T', 'S', 'T', 'T', 'L', 'R', 'Y', 'A', 'L', 'L', 'L', 'L', 'L', 'K', 'H', 'P', 'E', 'V', 'T', 'A', 'K', 'V', 'Q', 'E', 'E', 'I', 'E', 'R', 'V', 'I', 'G', 'R', 'N', 'R', 'S', 'P', 'C', 'M', 'Q', 'D', 'R', 'S', 'H', 'M', 'P', 'Y', 'T', 'D', 'A', 'V', 'V', 'H', 'E', 'V', 'Q', 'R', 'Y', 'I', 'D', 'L', 'L', 'P', 'T', 'S', 'L', 'P', 'H', 'A', 'V', 'T', 'C', 'D', 'I', 'K', 'F', 'R', 'N', 'Y', 'L', 'I', 'P', 'K', 'G', 'T', 'T', 'I', 'L', 'I', 'S', 'L', 'T', 'S', 'V', 'L', 'H', 'D', 'N', 'K', 'E', 'F', 'P', 'N', 'P', 'E', 'M', 'F', 'D', 'P', 'H', 'H', 'F', 'L', 'D', 'E', 'G', 'G', 'N', 'F', 'K', 'K', 'S', 'K', 'Y', 'F', 'M', 'P', 'F', 'S', 'A', 'G', 'K', 'R', 'I', 'C', 'V', 'G', 'E', 'A', 'L', 'A', 'G', 'M', 'E', 'L', 'F', 'L', 'F', 'L', 'T', 'S', 'I', 'L', 'Q', 'N', 'F', 'N', 'L', 'K', 'S', 'L', 'V', 'D', 'P', 'K', 'N', 'L', 'D', 'T', 'T', 'P', 'V', 'V', 'N', 'G', 'F', 'A', 'S', 'V', 'P', 'P', 'F', 'Y', 'Q', 'L', 'C', 'F', 'I', 'P', 'V']\n"
          ]
        }
      ],
      "source": [
        "# la variable proteina guarda una lista con cada aminoácido\n",
        "print(proteina)"
      ]
    },
    {
      "cell_type": "markdown",
      "metadata": {
        "id": "EE9gKjuWul9f"
      },
      "source": [
        "## Conclusiones\n",
        "\n",
        "En este punto de la práctica, utilizamos diversos comandos y métodos con el fin de obtener una secuencia de aminoácidos a partir de un `strigns` de ADN, siendo este un proceso que puede emplearse en secuencias de nucleótidos de diferentes tamaños y de diferentes organismos.\n",
        "\n",
        "Así pues, para obtener los aminoácidos que componen las proteínas empelamos **arreglos** y **estructuras de control**, donde se obtuvo información básica de los aminoácidos de la proteína citocromo P450, la cual, emplearemos para clasificarlos y obtener información general de la enzima desde sus subunidades (práctica 3)."
      ]
    },
    {
      "cell_type": "markdown",
      "metadata": {
        "id": "LNpa4K3tul9g"
      },
      "source": [
        "# Práctica 3: Proteínas y aminoácidos\n",
        "## Conceptos a trabajar\n",
        "La diversidad funcional expresada por las proteínas, parten de la variedad molecular y la secuencia especifica que las componen. Los aminoácidos son subunidades de bajo peso molecular, los cuales, cumplen una función específica en la estructura de la proteína, por sus propiedades fisicoquímicas, como, polaridad, acidez o basicidad, aromaticidad, tamaño, capacidad de formar enlaces o su reactividad química **<sup> 3 </sup>** (Fig. 2). Por tal razón, pueden ser clasificados de diversas formas:\n",
        "\n",
        "1.\tPor la polaridad, la capacidad de interaccionar con moléculas de agua, dividiéndose en:\n",
        "\n",
        "   * Apolares: hidrofóbicos.\n",
        "   * Polares: hidrofílicos.\n",
        "   * Ácidos: carga negativa a pH.\n",
        "   * Básicos: carga positiva a pH fisiológico.\n",
        "\n",
        "<img src=\"https://github.com/ramirezlab/CHEMO/blob/main/1_PART_ONE/img/Figura6-es.jpg?raw=1\" alt=\"aminoácidos2\" width=\"900\"/>\n",
        "\n",
        "*Figura 2. Estructura y clasificación de los aminoácidos por su polaridad. Figura adaptada de: [A Brief Guide to the Twenty Common Amino Acids (2014)](https://www.compoundchem.com/2014/09/16/aminoacids/)*\n",
        "\n",
        "2. Por la conformación de su cadena latera, se pueden agrupar en:\n",
        "   * Alifáticos\n",
        "   * Aromáticos\n",
        "   * Hidroxiáminoacidos\n",
        "   * Tioaminoácidos\n",
        "   * Iminoácidos\n",
        "   * Dicarboxílicos\n",
        "   * Amidas\n",
        "   * Dibásicos\n",
        "\n",
        "Conocer las propiedades fisicoquímicas de las proteínas, han facilitado la predicción de sus estructuras secundarias, es decir, entender el plegamiento de las proteínas para la formación tridimensional a partir de la cadena de aminoácidos que la forman, esto mediante los posibles enlaces que establecen entre las subunidades y entre proteínas."
      ]
    },
    {
      "cell_type": "markdown",
      "metadata": {
        "id": "ssIyXCxoul9g"
      },
      "source": [
        "## Planteamiento del problema\n",
        "Para dar solución al objetivo general de la práctica, analizaremos 2 propiedades fisicoquímicas de la enzima del citocromo P450, empleando como guía la información de las figuras 6 y 7. De esta forma, obtendremos la información básica de la proteína, la cual, facilitaría una predicción de su plegamiento mediante el uso de las ciencias ómicas. Las propiedades que vamos a evaluar son:\n",
        "* Polaridad\n",
        "* Acidez o basicidad\n",
        "\n",
        "Antes de comenzar, debemos crear un diccionario de las propiedades fisicoquímicas que queremos evaluar, con la clasificación de cada aminoácido. Donde, las `key` serían los aminoácidos y los `value` las propiedades."
      ]
    },
    {
      "cell_type": "code",
      "execution_count": null,
      "metadata": {
        "colab": {
          "base_uri": "https://localhost:8080/"
        },
        "id": "7JPIul3eul9h",
        "outputId": "0ba82581-f52c-4ba1-de2a-016a3a9ac81c"
      },
      "outputs": [
        {
          "output_type": "stream",
          "name": "stdout",
          "text": [
            "Los aminoácidos son: \n",
            "['A', 'V', 'L', 'G', 'I', 'F', 'W', 'M', 'P', 'S', 'T', 'Y', 'N', 'Q', 'C', 'D', 'E', 'K', 'R', 'H']\n",
            "-----------------\n",
            "Las propiedades son: \n",
            "{'Apolar', 'Básicos', 'Polar', 'Ácidos'}\n"
          ]
        }
      ],
      "source": [
        "#Diccionario de aminoácidos para su clasificación\n",
        "propiedades= {\"A\": \"Apolar\", \"V\": \"Apolar\", \"L\": \"Apolar\", \"G\": \"Apolar\", \"I\": \"Apolar\", \"F\": \"Apolar\",\"W\": \"Apolar\", \"M\": \"Apolar\", \"P\": \"Apolar\", \"S\": \"Polar\", \"T\": \"Polar\", \"Y\": \"Polar\", \"N\": \"Polar\", \"Q\": \"Polar\", \"C\": \"Polar\", \"D\": \"Ácidos\", \"E\": \"Ácidos\", \"K\": \"Básicos\", \"R\": \"Básicos\",  \"H\": \"Básicos\"}\n",
        "\n",
        "print(f'Los aminoácidos son: \\n{list(propiedades.keys())}')\n",
        "print('-----------------')\n",
        "print(f'Las propiedades son: \\n{set(propiedades.values())}')\n",
        "# se utiliza un conjunto a partir de la lista para que las propiedades no se repitan"
      ]
    },
    {
      "cell_type": "markdown",
      "metadata": {
        "id": "YUHEhNWyul9h"
      },
      "source": [
        "A continuación, vamos a crear la función `total_elements` para obtener el número de nucleótidos polares, apolares, ácidos y básicos presentes en la proteína.\n",
        "Se utilizará el módulo `collections.Counter` el cual organiza los elementos de una lista en un `Counter` que dice cuantas veces se repite cada elemento.\n",
        "El objeto `Counter` se puede comvertir luego en un `diccionario` donde podemos ver la infromación.\n",
        "\n",
        "`Counter` también tiene métodos útilies, por ejemplo: `.most_common(n)`, el cual retoARN el n-elemento más común del `Counter`.\n",
        "\n",
        "Mayor información https://docs.python.org/3/library/collections.html"
      ]
    },
    {
      "cell_type": "code",
      "execution_count": null,
      "metadata": {
        "id": "8o9eKG0Lul9i"
      },
      "outputs": [],
      "source": [
        "def total_elements(lista_proteina):\n",
        "    # Se importa el módulo a utilizar\n",
        "    from collections import Counter\n",
        "    # Se crea una lista vacia donde se va a guardar la propiedad de cada aminoácido\n",
        "    list_propiedades_proteina = list()\n",
        "    contador = list()\n",
        "\n",
        "    # Se va a iterar por cada aminoácido de la proteína\n",
        "    for element in lista_proteina:\n",
        "\n",
        "        # Se busca la propiedad del aminoácido y se guarda en la lista (.append())\n",
        "        list_propiedades_proteina.append(propiedades[element])\n",
        "        # Se llama al método Counter para organizar los datos\n",
        "        contador = Counter(list_propiedades_proteina)\n",
        "    print(f'Resumen de propiedades de la proteína:')\n",
        "    print(f'Total elementos: {len(lista_proteina)}')\n",
        "    print(f'Frecuenca de las propiedades: {dict(contador)}')\n",
        "    print(f'Propiedad más común: {contador.most_common(1)[0]}')\n",
        "\n",
        "    return None\n"
      ]
    },
    {
      "cell_type": "code",
      "execution_count": null,
      "metadata": {
        "colab": {
          "base_uri": "https://localhost:8080/"
        },
        "id": "dz3N46hSul9i",
        "outputId": "a2f3fc75-e099-4401-8360-9cae5de9df25"
      },
      "outputs": [
        {
          "output_type": "stream",
          "name": "stdout",
          "text": [
            "['M', 'D', 'S', 'L', 'V', 'V', 'L', 'V', 'L', 'C', 'L', 'S', 'C', 'L', 'L', 'L', 'L', 'S', 'L', 'W', 'R', 'Q', 'S', 'S', 'G', 'R', 'G', 'K', 'L', 'P', 'P', 'G', 'P', 'T', 'P', 'L', 'P', 'V', 'I', 'G', 'N', 'I', 'L', 'Q', 'I', 'G', 'I', 'K', 'D', 'I', 'S', 'K', 'S', 'L', 'T', 'N', 'L', 'S', 'K', 'V', 'Y', 'G', 'P', 'V', 'F', 'T', 'L', 'Y', 'F', 'G', 'L', 'K', 'P', 'I', 'V', 'V', 'L', 'H', 'G', 'Y', 'E', 'A', 'V', 'K', 'E', 'A', 'L', 'I', 'D', 'L', 'G', 'E', 'E', 'F', 'S', 'G', 'R', 'G', 'I', 'F', 'P', 'L', 'A', 'E', 'R', 'A', 'N', 'R', 'G', 'F', 'G', 'I', 'V', 'F', 'S', 'N', 'G', 'K', 'K', 'W', 'K', 'E', 'I', 'R', 'R', 'F', 'S', 'L', 'M', 'T', 'L', 'R', 'N', 'F', 'G', 'M', 'G', 'K', 'R', 'S', 'I', 'E', 'D', 'R', 'V', 'Q', 'E', 'E', 'A', 'R', 'C', 'L', 'V', 'E', 'E', 'L', 'R', 'K', 'T', 'K', 'A', 'S', 'P', 'C', 'D', 'P', 'T', 'F', 'I', 'L', 'G', 'C', 'A', 'P', 'C', 'N', 'V', 'I', 'C', 'S', 'I', 'I', 'F', 'H', 'K', 'R', 'F', 'D', 'Y', 'K', 'D', 'Q', 'Q', 'F', 'L', 'N', 'L', 'M', 'E', 'K', 'L', 'N', 'E', 'N', 'I', 'K', 'I', 'L', 'S', 'S', 'P', 'W', 'I', 'Q', 'I', 'C', 'N', 'N', 'F', 'S', 'P', 'I', 'I', 'D', 'Y', 'F', 'P', 'G', 'T', 'H', 'N', 'K', 'L', 'L', 'K', 'N', 'V', 'A', 'F', 'M', 'K', 'S', 'Y', 'I', 'L', 'E', 'K', 'V', 'K', 'E', 'H', 'Q', 'E', 'S', 'M', 'D', 'M', 'N', 'N', 'P', 'Q', 'D', 'F', 'I', 'D', 'C', 'F', 'L', 'M', 'K', 'M', 'E', 'K', 'E', 'K', 'H', 'N', 'Q', 'P', 'S', 'E', 'F', 'T', 'I', 'E', 'S', 'L', 'E', 'N', 'T', 'A', 'V', 'D', 'L', 'F', 'G', 'A', 'G', 'T', 'E', 'T', 'T', 'S', 'T', 'T', 'L', 'R', 'Y', 'A', 'L', 'L', 'L', 'L', 'L', 'K', 'H', 'P', 'E', 'V', 'T', 'A', 'K', 'V', 'Q', 'E', 'E', 'I', 'E', 'R', 'V', 'I', 'G', 'R', 'N', 'R', 'S', 'P', 'C', 'M', 'Q', 'D', 'R', 'S', 'H', 'M', 'P', 'Y', 'T', 'D', 'A', 'V', 'V', 'H', 'E', 'V', 'Q', 'R', 'Y', 'I', 'D', 'L', 'L', 'P', 'T', 'S', 'L', 'P', 'H', 'A', 'V', 'T', 'C', 'D', 'I', 'K', 'F', 'R', 'N', 'Y', 'L', 'I', 'P', 'K', 'G', 'T', 'T', 'I', 'L', 'I', 'S', 'L', 'T', 'S', 'V', 'L', 'H', 'D', 'N', 'K', 'E', 'F', 'P', 'N', 'P', 'E', 'M', 'F', 'D', 'P', 'H', 'H', 'F', 'L', 'D', 'E', 'G', 'G', 'N', 'F', 'K', 'K', 'S', 'K', 'Y', 'F', 'M', 'P', 'F', 'S', 'A', 'G', 'K', 'R', 'I', 'C', 'V', 'G', 'E', 'A', 'L', 'A', 'G', 'M', 'E', 'L', 'F', 'L', 'F', 'L', 'T', 'S', 'I', 'L', 'Q', 'N', 'F', 'N', 'L', 'K', 'S', 'L', 'V', 'D', 'P', 'K', 'N', 'L', 'D', 'T', 'T', 'P', 'V', 'V', 'N', 'G', 'F', 'A', 'S', 'V', 'P', 'P', 'F', 'Y', 'Q', 'L', 'C', 'F', 'I', 'P', 'V']\n",
            "-----------\n",
            "Resumen de propiedades de la proteína:\n",
            "Total elementos: 490\n",
            "Frecuenca de las propiedades: {'T': 48, 'X': 629, 'A': 81, 'P': 95, 'R': 77, 'G': 93, 'S': 22, 'E': 40, 'Q': 53, 'D': 16, 'H': 25, 'K': 32, 'N': 14, 'Apolar': 220, 'Cargado negativamente': 53, 'Polar': 161, 'Cargado positivamente': 56}\n",
            "Propiedad más común: ('X', 629)\n"
          ]
        }
      ],
      "source": [
        "# Proteína encontrada en la actividad 2\n",
        "print(proteina)\n",
        "print('-----------')\n",
        "total_elements(proteina)"
      ]
    },
    {
      "cell_type": "markdown",
      "metadata": {
        "id": "3yRjm4YLul9j"
      },
      "source": [
        "Con esta información, ya conocemos la longitud de la secuencia de aminoácidos y las propiedades fisicoquímicas de su estructura, la cual cuenta con regiones tanto polares, como apolares, siendo esta última la más común, lo que nos permite tener una aproximación del carácter de los grupos funcionales con los que es tiende a hacer reacción."
      ]
    },
    {
      "cell_type": "markdown",
      "metadata": {
        "id": "dXGaN3wVul9k"
      },
      "source": [
        "## Actividad práctica\n",
        "\n",
        "Teniendo en cuenta lo revisado en esta primera parte, realice un codigo en python con el cual pueda:\n",
        "\n",
        "1. Realizar la transcripción y traducción del siguiente gen:\n",
        "   \n",
        "ACAAGTCTTTCCGCCTCCCCAGCCCGCCCGGGAGCTGCGAGCCGCGAGCTGGATTATGGTGGCCTGAGCAGCCAACGCAGCCGCAGGAGCCCGGAGCCCTTGCCCCTGCCCGCGC\n",
        "CGCCGCCCGCCGGGGGGACCAGGGAAGCCGCCACCGGCCCGCCATGCCCGCCCCTCCCAGCCCCGCCGGGAGCCCGCGCCCGCTGCCCAGGCTGGCCGCCGCCGTGCCGATGTAG\n",
        "CGGGCTCCGGATCCCAGCCTCTCCCCTGCTCCCGTGCTCTGCGGATCTCCCCTGACCGCTCTCCACAGCCCGGACCCGGGGGCTGGCCCAGGGCCCTGCAGGCCCTGGCGTCCTG\n",
        "ATGCCCCCAAGCTCCCTCTCCTGAGAAGCCACCAGCACCACCCAGACTTGGGGGCAGGCGCCAGGGACGGACGTGGGCCAGTGCGAGCCCAGAGGGCCCGAAGGCCGGGGCCCAC\n",
        "CATGGCCCAAGCCCTGCCCTGGCTCCTGCTGTGGATGGGCGCGGGAGTGCTGCCTGCCCACGGCACCCAGCACGGCATCCGGCTGCCCCTGCGCAGCGGCCTGGGGGGCGCCCCC\n",
        "CTGGGGCTGCGGCTGCCCCGGGAGACCGACGAAGAGCCCGAGGAGCCCGGCCGGAGGGGCAGCTTTGTGGAGATGGTGGACAACCTGAGGGGCAAGTCGGGGCAGGGCTACTACG\n",
        "TGGAGATGACCGTGGGCAGCCCCCCGCAGACGGTAAGGTGGTCAGGCCAGCCCTTAGCCCTCCGCCTGCATGAGCAGAGGGGAGACAGGATGGGGATGCCTCAAGCTAGCCCCTG\n",
        "CTCAAATGGGCTGGTGGGGACAGCAGGAGGGACCCCTCCCCAGCCATTCCCCGGGGGTCACGTGGTTGTTGGCAGAAGTGTTCCCAAGCTCCCCATTCCCTCCTCGTCTCCCCTG\n",
        "GCTGCCTAGTTCCCCTTGCTCCTCATCTGACACATACGCCGTCTGGAAGGATTTGAGGCAAGACAGACACATCAGCTGGGGACCCTGACCTGGAGGAAGGGTCCGCCACAGGGGC\n",
        "ACTATAACAGGTGTCAGCCCCCTCTGACAGTGGCCCAGTCCGAGTCTCCCAAATCCCACCACTCTAGAGGTTGGCCACCCAACCTTGTCCCCTCCTCTGATTCCCACCATTGTTC\n",
        "CCAGTACCTCCAGGACCAAGGAATCCTGGCAGCAGTTGAATAAGCACCTTGCTCCCACCATCTGGGCTGCCACTGGTACGGCAAAGTGAGGTTGTCGAGGCCCCCCTGACTGCAC\n",
        "TCCGCCCGGAAGCCCTGGACAGGCTCCTGCCGTCCCCTCCTCCTCCCCTTCTCCCTCTCGCGGTCTACACTCCGGCCCCTCCCCCACCCCACACCTCCCCAGGCCAGAGGGGAAC\n",
        "TGAACTGAGCCTGGTGAAAGAACAAATGGTAGGAAAGGAGCCAGAGCTCCCTTTTAAGAGTGGGACTCCTTCCATGGCGGGGGAGAGGGGAGTTACAGAGAAAACACTGTTATGC\n",
        "CCTCCCCATCCTTCCTGACAATCTCCAAGGTACCTTCAAGGTGGCTGGTGGAGGTGGCACCCTCTGCACCTCTGTGGGTGAGCAGCCCTCCATGTGGGGTGCTGTGGCTGACCTC\n",
        "TGTGTGCATCTGCCGCCTCTGTGGGGCAGTCCGGGCCCGGGCAGCCCTGTGGTTCTGTGTATGCTGGTGCGTGTCACCTTGAATCTGATCCTGCACATCTGTGAGCCACCTCCGG\n",
        "ATCTGTGTCTGGGAAGTCTGTCCTTGGGAGGGTCTGTGAAGGTGGGAGTGTGTTTGGGGTGGGCGGAGGGGACAGCCACACTTTCCTGAACTTCTCAGACAGCTGGATCTGGGAG\n",
        "AAACACAAACCCCCACCTCCCAATTACTTTACAGAAGCCAGCCTTCCTAGGTGCGTGCTCCCCAGCCCTACCTCTCAGCTAGTCGAAAGCCTGGTCTTCCCCACTTTCTCATCCT\n",
        "CTTTCCTGTGCACCATAACTTCCCCAGCAGTAGTCTCCAGTGGGAATTTGGGAGGGCAGGACAGAAGCCAAATCCAGGCCCTGAGCAAACAGAACGCTAGATGATATCGTCAGGG\n",
        "AGCAGCAGGTATGCAGAGACCTGGGACCTACTCCTGTTTCTGCGACTGACATGCTGTGCACACTGTGCATGGACCCCATGGCACGATGCAGGACGGGGCTGCAGAACCCACACAA\n",
        "GCTTTGAGGTCAGACAGTCCACGAATCCCAGCTCTACCACCCACAGCTTTTCCTCTTCTCAGCTGTGTGGCCTTGGGCAAATTGCATAACCTCTCTGAAACTACTGTCATATCTT\n",
        "TAAAATGAGTAGGAAATGAGACCTCCTTTGCAAGGTAATTGTGAGGATTAAGTTGTGAGGGTTAATTGTTCTAGGTGCTTTCACCCAGAACAATACACCAGCATATAAAACTGAC\n",
        "CTCCAACAAATATGAAGTCACTTTATCCTTGTCTGGCCTGTTCTGCCTCTTCAATTCTATGCAATGAGGCATAAAAACTCGGATGTCCTGGGCCTCCACGTTTTACATGTATAAA\n",
        "ACTGGGGTATCCTGTAATCCCAGCACTTTGGGGGGCCAAGGTGGGCAGATCACCTGAGGTCAGGAGTTCGAGACCAGCTTGGCTAACATAGCAAAACCCTGTTTCTACTAAAAAT\n",
        "ACAAAAATAATTCGCCGGGCCTGGTGGCATGCACCTGTAATCCCAGCTACTCAGGAGGCTGAGGCAGGAGAATCGCTTGAACCTGGGAGGCGGAGGTTGCAGTGAGACAAGATCG\n",
        "CACCATTGCCCTCCAGCCTGGGCAACAAGAGCAAAACTCTGTCTCAGAAAAAATAAAAACAAAAACAAAAACGGGGTATCCATTGCTGTACTTCCCTGATCCCCTGAAATAATGC\n",
        "ATACATCCTGCAGCCCAGTACTTAGCAGAGAGTAATTGCTCAATAAATGTCAGTTCCTTCCTCGTTCCTTTCTAGAAGAGGAAAGTGGGCTTAAAGTTCAACACCAGTCCAGGAA\n",
        "GCTAGTGCCAGGGAGCCCACAACTAAAGCAACTGTGTGGCTTGCACTATGATTTCTAACTAAGCCTGCATCAGCCAGTCTCTGCTCTCTGGTGGCTTGGACTCTCTCCCCATCTG\n",
        "TCTGTAAGAAGGACGCCCTTTCTTCCTACCTGGCGCGGCTGTTGTAAGTGCCAAATGAGAACTTGGATGGCATTGTATTCTGAACAAGAAAAAGTAAAATTTGGGGAGCACTTTC\n",
        "TCTGTGCTAGGCAATTAATTGGTGGTGCCTGGGGGCTGATCCACAAAGAGACAAGAAGACATGTTTTCTGCCCACATAGAGTTACAGTGGAAGTGAAAGGGCGGAAGTGACGAGT\n",
        "ACAAGGTCATCCATGCAGATATACTCAAAGCGAGGTCGGCAAACCCTCATTGGAGTCAGCTAAAAATGTAAATTCCCTGGCCCCATCCCTGACCTCTAGAGACAGGATCTCTGAC\n",
        "AGTGGGGCCCCGTAGTTTGTGCCTCAAATTTGAGAACCATTTATGGCTGGACGCGGTGGCTCACGCCTGTAATCCCAACACTTTGGGAGGCTGAGGCCGGCGGATCACCTGAGGT\n",
        "CAGGAGTTCGCGACCAGCCTGGCCAACGTGGTGAAACCCCATCTCTACGAAAAATGCAAAAATTATCTGGGCATG\n",
        "\n",
        "2. Realizar el cálculo de las propiedades de la nueva proteína (Número de aminoacidos que componen la proteina, clasificación de los aminoácidos y propiedad más común).\n",
        "\n",
        "\n",
        "Al finalizar deberá preparar un documento en formato PDF en el cual adjunte el codigo propuesto y la salida de la ejecución la cual deberá incluir la secuencia de la proteina, el número de aminoacidos que componen la proteina, clasificación de los aminoácidos y propiedad más común."
      ]
    },
    {
      "cell_type": "code",
      "execution_count": null,
      "metadata": {
        "id": "KdYqnbOL639I",
        "outputId": "d4538d39-07c2-4f80-a499-a74fc65548fa",
        "colab": {
          "base_uri": "https://localhost:8080/"
        }
      },
      "outputs": [
        {
          "output_type": "stream",
          "name": "stdout",
          "text": [
            "Tipo variable sec_ADN: <class 'str'>\n"
          ]
        }
      ],
      "source": [
        "import requests\n",
        "\n",
        "url = \"https://raw.githubusercontent.com/yasnapse/CHEMO/9481ce7f2bc0c00a217b1ec6e9a514ad2448240e/GEN\"\n",
        "response = requests.get(url)\n",
        "\n",
        "if response.status_code == 200:\n",
        "    sec_ADN = response.text\n",
        "    print(f'Tipo variable sec_ADN: {type(sec_ADN)}')\n",
        "else:\n",
        "    print(f\"Error al acceder al archivo. Código de estado: {response.status_code}\")"
      ]
    },
    {
      "cell_type": "code",
      "execution_count": null,
      "metadata": {
        "id": "-abF8-89639K",
        "outputId": "c7dcdab4-dabd-4c53-9484-7e6a6e25e0b5",
        "colab": {
          "base_uri": "https://localhost:8080/"
        }
      },
      "outputs": [
        {
          "output_type": "stream",
          "name": "stdout",
          "text": [
            "ACAAGTCTTTCCGCCTCCCCAGCCCGCCCGGGAGCTGCGAGCCGCGAGCTGGATTATGGTGGCCTGAGCAGCCAACGCAGCCGCAGGAGCCCGGAGCCCTTGCCCCTGCCCGCGC\n",
            "CGCCGCCCGCCGGGGGGACCAGGGAAGCCGCCACCGGCCCGCCATGCCCGCCCCTCCCAGCCCCGCCGGGAGCCCGCGCCCGCTGCCCAGGCTGGCCGCCGCCGTGCCGATGTAG\n",
            "CGGGCTCCGGATCCCAGCCTCTCCCCTGCTCCCGTGCTCTGCGGATCTCCCCTGACCGCTCTCCACAGCCCGGACCCGGGGGCTGGCCCAGGGCCCTGCAGGCCCTGGCGTCCTG\n",
            "ATGCCCCCAAGCTCCCTCTCCTGAGAAGCCACCAGCACCACCCAGACTTGGGGGCAGGCGCCAGGGACGGACGTGGGCCAGTGCGAGCCCAGAGGGCCCGAAGGCCGGGGCCCAC\n",
            "CATGGCCCAAGCCCTGCCCTGGCTCCTGCTGTGGATGGGCGCGGGAGTGCTGCCTGCCCACGGCACCCAGCACGGCATCCGGCTGCCCCTGCGCAGCGGCCTGGGGGGCGCCCCC\n",
            "CTGGGGCTGCGGCTGCCCCGGGAGACCGACGAAGAGCCCGAGGAGCCCGGCCGGAGGGGCAGCTTTGTGGAGATGGTGGACAACCTGAGGGGCAAGTCGGGGCAGGGCTACTACG\n",
            "TGGAGATGACCGTGGGCAGCCCCCCGCAGACGGTAAGGTGGTCAGGCCAGCCCTTAGCCCTCCGCCTGCATGAGCAGAGGGGAGACAGGATGGGGATGCCTCAAGCTAGCCCCTG\n",
            "CTCAAATGGGCTGGTGGGGACAGCAGGAGGGACCCCTCCCCAGCCATTCCCCGGGGGTCACGTGGTTGTTGGCAGAAGTGTTCCCAAGCTCCCCATTCCCTCCTCGTCTCCCCTG\n",
            "GCTGCCTAGTTCCCCTTGCTCCTCATCTGACACATACGCCGTCTGGAAGGATTTGAGGCAAGACAGACACATCAGCTGGGGACCCTGACCTGGAGGAAGGGTCCGCCACAGGGGC\n",
            "ACTATAACAGGTGTCAGCCCCCTCTGACAGTGGCCCAGTCCGAGTCTCCCAAATCCCACCACTCTAGAGGTTGGCCACCCAACCTTGTCCCCTCCTCTGATTCCCACCATTGTTC\n",
            "CCAGTACCTCCAGGACCAAGGAATCCTGGCAGCAGTTGAATAAGCACCTTGCTCCCACCATCTGGGCTGCCACTGGTACGGCAAAGTGAGGTTGTCGAGGCCCCCCTGACTGCAC\n",
            "TCCGCCCGGAAGCCCTGGACAGGCTCCTGCCGTCCCCTCCTCCTCCCCTTCTCCCTCTCGCGGTCTACACTCCGGCCCCTCCCCCACCCCACACCTCCCCAGGCCAGAGGGGAAC\n",
            "TGAACTGAGCCTGGTGAAAGAACAAATGGTAGGAAAGGAGCCAGAGCTCCCTTTTAAGAGTGGGACTCCTTCCATGGCGGGGGAGAGGGGAGTTACAGAGAAAACACTGTTATGC\n",
            "CCTCCCCATCCTTCCTGACAATCTCCAAGGTACCTTCAAGGTGGCTGGTGGAGGTGGCACCCTCTGCACCTCTGTGGGTGAGCAGCCCTCCATGTGGGGTGCTGTGGCTGACCTC\n",
            "TGTGTGCATCTGCCGCCTCTGTGGGGCAGTCCGGGCCCGGGCAGCCCTGTGGTTCTGTGTATGCTGGTGCGTGTCACCTTGAATCTGATCCTGCACATCTGTGAGCCACCTCCGG\n",
            "ATCTGTGTCTGGGAAGTCTGTCCTTGGGAGGGTCTGTGAAGGTGGGAGTGTGTTTGGGGTGGGCGGAGGGGACAGCCACACTTTCCTGAACTTCTCAGACAGCTGGATCTGGGAG\n",
            "AAACACAAACCCCCACCTCCCAATTACTTTACAGAAGCCAGCCTTCCTAGGTGCGTGCTCCCCAGCCCTACCTCTCAGCTAGTCGAAAGCCTGGTCTTCCCCACTTTCTCATCCT\n",
            "CTTTCCTGTGCACCATAACTTCCCCAGCAGTAGTCTCCAGTGGGAATTTGGGAGGGCAGGACAGAAGCCAAATCCAGGCCCTGAGCAAACAGAACGCTAGATGATATCGTCAGGG\n",
            "AGCAGCAGGTATGCAGAGACCTGGGACCTACTCCTGTTTCTGCGACTGACATGCTGTGCACACTGTGCATGGACCCCATGGCACGATGCAGGACGGGGCTGCAGAACCCACACAA\n",
            "GCTTTGAGGTCAGACAGTCCACGAATCCCAGCTCTACCACCCACAGCTTTTCCTCTTCTCAGCTGTGTGGCCTTGGGCAAATTGCATAACCTCTCTGAAACTACTGTCATATCTT\n",
            "TAAAATGAGTAGGAAATGAGACCTCCTTTGCAAGGTAATTGTGAGGATTAAGTTGTGAGGGTTAATTGTTCTAGGTGCTTTCACCCAGAACAATACACCAGCATATAAAACTGAC\n",
            "CTCCAACAAATATGAAGTCACTTTATCCTTGTCTGGCCTGTTCTGCCTCTTCAATTCTATGCAATGAGGCATAAAAACTCGGATGTCCTGGGCCTCCACGTTTTACATGTATAAA\n",
            "ACTGGGGTATCCTGTAATCCCAGCACTTTGGGGGGCCAAGGTGGGCAGATCACCTGAGGTCAGGAGTTCGAGACCAGCTTGGCTAACATAGCAAAACCCTGTTTCTACTAAAAAT\n",
            "ACAAAAATAATTCGCCGGGCCTGGTGGCATGCACCTGTAATCCCAGCTACTCAGGAGGCTGAGGCAGGAGAATCGCTTGAACCTGGGAGGCGGAGGTTGCAGTGAGACAAGATCG\n",
            "CACCATTGCCCTCCAGCCTGGGCAACAAGAGCAAAACTCTGTCTCAGAAAAAATAAAAACAAAAACAAAAACGGGGTATCCATTGCTGTACTTCCCTGATCCCCTGAAATAATGC\n",
            "ATACATCCTGCAGCCCAGTACTTAGCAGAGAGTAATTGCTCAATAAATGTCAGTTCCTTCCTCGTTCCTTTCTAGAAGAGGAAAGTGGGCTTAAAGTTCAACACCAGTCCAGGAA\n",
            "GCTAGTGCCAGGGAGCCCACAACTAAAGCAACTGTGTGGCTTGCACTATGATTTCTAACTAAGCCTGCATCAGCCAGTCTCTGCTCTCTGGTGGCTTGGACTCTCTCCCCATCTG\n",
            "TCTGTAAGAAGGACGCCCTTTCTTCCTACCTGGCGCGGCTGTTGTAAGTGCCAAATGAGAACTTGGATGGCATTGTATTCTGAACAAGAAAAAGTAAAATTTGGGGAGCACTTTC\n",
            "TCTGTGCTAGGCAATTAATTGGTGGTGCCTGGGGGCTGATCCACAAAGAGACAAGAAGACATGTTTTCTGCCCACATAGAGTTACAGTGGAAGTGAAAGGGCGGAAGTGACGAGT\n",
            "ACAAGGTCATCCATGCAGATATACTCAAAGCGAGGTCGGCAAACCCTCATTGGAGTCAGCTAAAAATGTAAATTCCCTGGCCCCATCCCTGACCTCTAGAGACAGGATCTCTGAC\n",
            "AGTGGGGCCCCGTAGTTTGTGCCTCAAATTTGAGAACCATTTATGGCTGGACGCGGTGGCTCACGCCTGTAATCCCAACACTTTGGGAGGCTGAGGCCGGCGGATCACCTGAGGT\n",
            "CAGGAGTTCGCGACCAGCCTGGCCAACGTGGTGAAACCCCATCTCTACGAAAAATGCAAAAATTATCTGGGCATG\n",
            "\n"
          ]
        }
      ],
      "source": [
        "print(sec_ADN)"
      ]
    },
    {
      "cell_type": "code",
      "execution_count": null,
      "metadata": {
        "id": "NWgU1zoP639U",
        "outputId": "7df9d7e2-92e8-40f8-8ed0-58c3b6de53bf",
        "colab": {
          "base_uri": "https://localhost:8080/"
        }
      },
      "outputs": [
        {
          "output_type": "stream",
          "name": "stdout",
          "text": [
            "Secuencia ARNm:\n",
            " ACAAGUCUUUCCGCCUCCCCAGCCCGCCCGGGAGCUGCGAGCCGCGAGCUGGAUUAUGGUGGCCUGAGCAGCCAACGCAGCCGCAGGAGCCCGGAGCCCUUGCCCCUGCCCGCGC\n",
            "CGCCGCCCGCCGGGGGGACCAGGGAAGCCGCCACCGGCCCGCCAUGCCCGCCCCUCCCAGCCCCGCCGGGAGCCCGCGCCCGCUGCCCAGGCUGGCCGCCGCCGUGCCGAUGUAG\n",
            "CGGGCUCCGGAUCCCAGCCUCUCCCCUGCUCCCGUGCUCUGCGGAUCUCCCCUGACCGCUCUCCACAGCCCGGACCCGGGGGCUGGCCCAGGGCCCUGCAGGCCCUGGCGUCCUG\n",
            "AUGCCCCCAAGCUCCCUCUCCUGAGAAGCCACCAGCACCACCCAGACUUGGGGGCAGGCGCCAGGGACGGACGUGGGCCAGUGCGAGCCCAGAGGGCCCGAAGGCCGGGGCCCAC\n",
            "CAUGGCCCAAGCCCUGCCCUGGCUCCUGCUGUGGAUGGGCGCGGGAGUGCUGCCUGCCCACGGCACCCAGCACGGCAUCCGGCUGCCCCUGCGCAGCGGCCUGGGGGGCGCCCCC\n",
            "CUGGGGCUGCGGCUGCCCCGGGAGACCGACGAAGAGCCCGAGGAGCCCGGCCGGAGGGGCAGCUUUGUGGAGAUGGUGGACAACCUGAGGGGCAAGUCGGGGCAGGGCUACUACG\n",
            "UGGAGAUGACCGUGGGCAGCCCCCCGCAGACGGUAAGGUGGUCAGGCCAGCCCUUAGCCCUCCGCCUGCAUGAGCAGAGGGGAGACAGGAUGGGGAUGCCUCAAGCUAGCCCCUG\n",
            "CUCAAAUGGGCUGGUGGGGACAGCAGGAGGGACCCCUCCCCAGCCAUUCCCCGGGGGUCACGUGGUUGUUGGCAGAAGUGUUCCCAAGCUCCCCAUUCCCUCCUCGUCUCCCCUG\n",
            "GCUGCCUAGUUCCCCUUGCUCCUCAUCUGACACAUACGCCGUCUGGAAGGAUUUGAGGCAAGACAGACACAUCAGCUGGGGACCCUGACCUGGAGGAAGGGUCCGCCACAGGGGC\n",
            "ACUAUAACAGGUGUCAGCCCCCUCUGACAGUGGCCCAGUCCGAGUCUCCCAAAUCCCACCACUCUAGAGGUUGGCCACCCAACCUUGUCCCCUCCUCUGAUUCCCACCAUUGUUC\n",
            "CCAGUACCUCCAGGACCAAGGAAUCCUGGCAGCAGUUGAAUAAGCACCUUGCUCCCACCAUCUGGGCUGCCACUGGUACGGCAAAGUGAGGUUGUCGAGGCCCCCCUGACUGCAC\n",
            "UCCGCCCGGAAGCCCUGGACAGGCUCCUGCCGUCCCCUCCUCCUCCCCUUCUCCCUCUCGCGGUCUACACUCCGGCCCCUCCCCCACCCCACACCUCCCCAGGCCAGAGGGGAAC\n",
            "UGAACUGAGCCUGGUGAAAGAACAAAUGGUAGGAAAGGAGCCAGAGCUCCCUUUUAAGAGUGGGACUCCUUCCAUGGCGGGGGAGAGGGGAGUUACAGAGAAAACACUGUUAUGC\n",
            "CCUCCCCAUCCUUCCUGACAAUCUCCAAGGUACCUUCAAGGUGGCUGGUGGAGGUGGCACCCUCUGCACCUCUGUGGGUGAGCAGCCCUCCAUGUGGGGUGCUGUGGCUGACCUC\n",
            "UGUGUGCAUCUGCCGCCUCUGUGGGGCAGUCCGGGCCCGGGCAGCCCUGUGGUUCUGUGUAUGCUGGUGCGUGUCACCUUGAAUCUGAUCCUGCACAUCUGUGAGCCACCUCCGG\n",
            "AUCUGUGUCUGGGAAGUCUGUCCUUGGGAGGGUCUGUGAAGGUGGGAGUGUGUUUGGGGUGGGCGGAGGGGACAGCCACACUUUCCUGAACUUCUCAGACAGCUGGAUCUGGGAG\n",
            "AAACACAAACCCCCACCUCCCAAUUACUUUACAGAAGCCAGCCUUCCUAGGUGCGUGCUCCCCAGCCCUACCUCUCAGCUAGUCGAAAGCCUGGUCUUCCCCACUUUCUCAUCCU\n",
            "CUUUCCUGUGCACCAUAACUUCCCCAGCAGUAGUCUCCAGUGGGAAUUUGGGAGGGCAGGACAGAAGCCAAAUCCAGGCCCUGAGCAAACAGAACGCUAGAUGAUAUCGUCAGGG\n",
            "AGCAGCAGGUAUGCAGAGACCUGGGACCUACUCCUGUUUCUGCGACUGACAUGCUGUGCACACUGUGCAUGGACCCCAUGGCACGAUGCAGGACGGGGCUGCAGAACCCACACAA\n",
            "GCUUUGAGGUCAGACAGUCCACGAAUCCCAGCUCUACCACCCACAGCUUUUCCUCUUCUCAGCUGUGUGGCCUUGGGCAAAUUGCAUAACCUCUCUGAAACUACUGUCAUAUCUU\n",
            "UAAAAUGAGUAGGAAAUGAGACCUCCUUUGCAAGGUAAUUGUGAGGAUUAAGUUGUGAGGGUUAAUUGUUCUAGGUGCUUUCACCCAGAACAAUACACCAGCAUAUAAAACUGAC\n",
            "CUCCAACAAAUAUGAAGUCACUUUAUCCUUGUCUGGCCUGUUCUGCCUCUUCAAUUCUAUGCAAUGAGGCAUAAAAACUCGGAUGUCCUGGGCCUCCACGUUUUACAUGUAUAAA\n",
            "ACUGGGGUAUCCUGUAAUCCCAGCACUUUGGGGGGCCAAGGUGGGCAGAUCACCUGAGGUCAGGAGUUCGAGACCAGCUUGGCUAACAUAGCAAAACCCUGUUUCUACUAAAAAU\n",
            "ACAAAAAUAAUUCGCCGGGCCUGGUGGCAUGCACCUGUAAUCCCAGCUACUCAGGAGGCUGAGGCAGGAGAAUCGCUUGAACCUGGGAGGCGGAGGUUGCAGUGAGACAAGAUCG\n",
            "CACCAUUGCCCUCCAGCCUGGGCAACAAGAGCAAAACUCUGUCUCAGAAAAAAUAAAAACAAAAACAAAAACGGGGUAUCCAUUGCUGUACUUCCCUGAUCCCCUGAAAUAAUGC\n",
            "AUACAUCCUGCAGCCCAGUACUUAGCAGAGAGUAAUUGCUCAAUAAAUGUCAGUUCCUUCCUCGUUCCUUUCUAGAAGAGGAAAGUGGGCUUAAAGUUCAACACCAGUCCAGGAA\n",
            "GCUAGUGCCAGGGAGCCCACAACUAAAGCAACUGUGUGGCUUGCACUAUGAUUUCUAACUAAGCCUGCAUCAGCCAGUCUCUGCUCUCUGGUGGCUUGGACUCUCUCCCCAUCUG\n",
            "UCUGUAAGAAGGACGCCCUUUCUUCCUACCUGGCGCGGCUGUUGUAAGUGCCAAAUGAGAACUUGGAUGGCAUUGUAUUCUGAACAAGAAAAAGUAAAAUUUGGGGAGCACUUUC\n",
            "UCUGUGCUAGGCAAUUAAUUGGUGGUGCCUGGGGGCUGAUCCACAAAGAGACAAGAAGACAUGUUUUCUGCCCACAUAGAGUUACAGUGGAAGUGAAAGGGCGGAAGUGACGAGU\n",
            "ACAAGGUCAUCCAUGCAGAUAUACUCAAAGCGAGGUCGGCAAACCCUCAUUGGAGUCAGCUAAAAAUGUAAAUUCCCUGGCCCCAUCCCUGACCUCUAGAGACAGGAUCUCUGAC\n",
            "AGUGGGGCCCCGUAGUUUGUGCCUCAAAUUUGAGAACCAUUUAUGGCUGGACGCGGUGGCUCACGCCUGUAAUCCCAACACUUUGGGAGGCUGAGGCCGGCGGAUCACCUGAGGU\n",
            "CAGGAGUUCGCGACCAGCCUGGCCAACGUGGUGAAACCCCAUCUCUACGAAAAAUGCAAAAAUUAUCUGGGCAUG\n",
            "\n"
          ]
        }
      ],
      "source": [
        "# Transcripción de la secuencia de marmota de ADN a ARN, empleando la función \".replace()\"\n",
        "sec_ARN = sec_ADN.replace(\"T\",\"U\")\n",
        "print (\"Secuencia ARNm:\\n\", str(sec_ARN))"
      ]
    },
    {
      "cell_type": "code",
      "source": [
        "# Diccionario del código genético\n",
        "genetic_code = {\n",
        "    \"AAA\": \"K\",\n",
        "    \"AAC\": \"N\",\n",
        "    \"AAG\": \"K\",\n",
        "    \"AAT\": \"N\",\n",
        "    \"ACA\": \"T\",\n",
        "    \"ACC\": \"T\",\n",
        "    \"ACG\": \"T\",\n",
        "    \"ACT\": \"T\",\n",
        "    \"AGA\": \"R\",\n",
        "    \"AGC\": \"S\",\n",
        "    \"AGG\": \"R\",\n",
        "    \"AGT\": \"S\",\n",
        "    \"ATA\": \"I\",\n",
        "    \"ATC\": \"I\",\n",
        "    \"ATG\": \"M\",\n",
        "    \"ATT\": \"I\",\n",
        "    \"CAA\": \"Q\",\n",
        "    \"CAC\": \"H\",\n",
        "    \"CAG\": \"Q\",\n",
        "    \"CAT\": \"H\",\n",
        "    \"CCA\": \"P\",\n",
        "    \"CCC\": \"P\",\n",
        "    \"CCG\": \"P\",\n",
        "    \"CCT\": \"P\",\n",
        "    \"CGA\": \"R\",\n",
        "    \"CGC\": \"R\",\n",
        "    \"CGG\": \"R\",\n",
        "    \"CGT\": \"R\",\n",
        "    \"CTA\": \"L\",\n",
        "    \"CTC\": \"L\",\n",
        "    \"CTG\": \"L\",\n",
        "    \"CTT\": \"L\",\n",
        "    \"GAA\": \"E\",\n",
        "    \"GAC\": \"D\",\n",
        "    \"GAG\": \"E\",\n",
        "    \"GAT\": \"D\",\n",
        "    \"GCA\": \"A\",\n",
        "    \"GCC\": \"A\",\n",
        "    \"GCG\": \"A\",\n",
        "    \"GCT\": \"A\",\n",
        "    \"GGA\": \"G\",\n",
        "    \"GGC\": \"G\",\n",
        "    \"GGG\": \"G\",\n",
        "    \"GGT\": \"G\",\n",
        "    \"TAA\": \"*\",\n",
        "    \"TAG\": \"*\",\n",
        "    \"TGA\": \"*\",\n",
        "    \"TAT\": \"Y\",\n",
        "    \"TAC\": \"Y\",\n",
        "    \"TTA\": \"L\",\n",
        "    \"TTC\": \"F\",\n",
        "    \"TTG\": \"L\",\n",
        "    \"TTT\": \"F\",\n",
        "    \"TGT\": \"C\",\n",
        "    \"TGC\": \"C\",\n",
        "    \"TGG\": \"W\",\n",
        "    \"TTA\": \"L\",\n",
        "}\n",
        "\n",
        "print(f'los codones son: \\n{list(genetic_code.keys())}')\n",
        "print(f'los aminoácidos son: \\n{list(genetic_code.values())}')"
      ],
      "metadata": {
        "colab": {
          "base_uri": "https://localhost:8080/"
        },
        "id": "4ATpcEIlEOHg",
        "outputId": "ff60baca-096d-4e4f-cee1-ca5489705ee4"
      },
      "execution_count": null,
      "outputs": [
        {
          "output_type": "stream",
          "name": "stdout",
          "text": [
            "los codones son: \n",
            "['AAA', 'AAC', 'AAG', 'AAT', 'ACA', 'ACC', 'ACG', 'ACT', 'AGA', 'AGC', 'AGG', 'AGT', 'ATA', 'ATC', 'ATG', 'ATT', 'CAA', 'CAC', 'CAG', 'CAT', 'CCA', 'CCC', 'CCG', 'CCT', 'CGA', 'CGC', 'CGG', 'CGT', 'CTA', 'CTC', 'CTG', 'CTT', 'GAA', 'GAC', 'GAG', 'GAT', 'GCA', 'GCC', 'GCG', 'GCT', 'GGA', 'GGC', 'GGG', 'GGT', 'TAA', 'TAG', 'TGA', 'TAT', 'TAC', 'TTA', 'TTC', 'TTG', 'TTT', 'TGT', 'TGC', 'TGG']\n",
            "los aminoácidos son: \n",
            "['K', 'N', 'K', 'N', 'T', 'T', 'T', 'T', 'R', 'S', 'R', 'S', 'I', 'I', 'M', 'I', 'Q', 'H', 'Q', 'H', 'P', 'P', 'P', 'P', 'R', 'R', 'R', 'R', 'L', 'L', 'L', 'L', 'E', 'D', 'E', 'D', 'A', 'A', 'A', 'A', 'G', 'G', 'G', 'G', '*', '*', '*', 'Y', 'Y', 'L', 'F', 'L', 'F', 'C', 'C', 'W']\n"
          ]
        }
      ]
    },
    {
      "cell_type": "code",
      "source": [
        "sec_proteina = \"\"\n",
        "codon = \"\"\n",
        "\n",
        "for base in sec_ARN:\n",
        "  codon += base\n",
        "  if len (codon) == 3:\n",
        "    amino_acido = genetic_code.get(codon, 'X')\n",
        "    sec_proteina += amino_acido\n",
        "    codon = \"\"\n",
        "\n",
        "print(sec_proteina)\n",
        "\n",
        "\n"
      ],
      "metadata": {
        "colab": {
          "base_uri": "https://localhost:8080/"
        },
        "id": "XB8MkW6TUJAq",
        "outputId": "3f22ebb9-e3c7-4325-c767-e74a6b12bf85"
      },
      "execution_count": null,
      "outputs": [
        {
          "output_type": "stream",
          "name": "stdout",
          "text": [
            "TXXXAXPARPGXASREXXXXGXSSQRSRRSPEPXPXPAXAARRGDQGSRHRPAXPAXPSPAGSPRPXPRXAAAXPXXXGXGXQXXPXXXXXRXXXDRXPQPGPGGXPRAXQAXAXXXPPSXXXXEATSTTQXXGQAPGTDXGQXEPRGPEGRGPXXAQAXPXXXXXXGAGXXXAHGTQHGXRXPXRSGXGGAPXGXAXAPGDRRRARGARPEGQXXGXXGQXEGQXGAGXXXXRXPXAAPRRRXXXQASXXPXAXXSRGETGXGXXKXAXXXXGXXGTAGGTXPQPXPGXHXXXGRXXPKXPXPXXXPXXXXXPXXXXXTXTPXGRXXGKTDTXXGDXDXEEGXATGXXXTXXSPXXQXPXPXXPXPTXXEXGHPTXXXXXXPTXXXQXXQDQGXXAAXEXAXXXHXXGXHXXGKXRXXRPPXXHXRPEAXDRXXPXXXXPXXXXAXXXPAXPPPHTXPGQRGXXXEXXERTXXRKGARXPXXEXDXXXGGGEGXXRENXXXXXPXXXDXXQXTXKXXXGXGTXXTXXXEQPXXXXXXXDXXXAXAAXXGQXGPGQPXXXXXXXAXHXEXXXAXXXATXXXXXXEXXXXEXXXRXEXXXXGRRGQPHXXEXXRQXXXGXNTNPHXPXXXQKPAXXXAXXPAXXXSXXKAXXXPXXXXXXXXTXXXPAXXXXGXXGGQDRSQXQAXSKQNXRXXXQXSSRXAETXDXXXXXRXTXXAHXAXTPXHXAGRGXRTHTXXXXQTXHEXQXXHPQXXXXXXXXXXAXXXTXXKXXXXXXKXXGXETXXARXXXGXXXEXXXXXXXXPRTXHQXXKXXXQQXXXHXXXXXXXXXXQXXAXRXKNXXXXGXHXXXXXXXGXXXXPAXXGAKXGRXXEXRXXRPXXXTXQNXXXXKXXKXXXPGXXAXTXXPSXXGGXGRRXXXTXEAEXAXRQXXHXXXPAXATRAKXXXRKXKNKNKNGXXXXXXPXXXEXXXXXXQPXXXQRXXXQXXXXXXXXXXRRGKXXXXXTPXQEXXXQGAHNXSNXXXXXXXXNXAXXSQXXXXXGXDXXPXXXXRRTPXXXTXRGXXKXQXRXXXAXXXEQEKXKXGEHXXXXXAXXXXXXGXXPQRDKKTXXXPTXXXXGXERAEXTXXKXXXAXXXKARXANXXXXQXKXXXPXPXPXXXETGXXXXGAPXXXXQXXEPXXXGRXGXRXXXQHXGRXRPAXHXRXRXXRPAXPTXXNPXXTKXAKXXXAX\n"
          ]
        }
      ]
    },
    {
      "cell_type": "code",
      "execution_count": null,
      "metadata": {
        "outputId": "7de771ba-f94e-4090-e635-98e818da2df1",
        "colab": {
          "base_uri": "https://localhost:8080/"
        },
        "id": "fdsnYDTybvG9"
      },
      "outputs": [
        {
          "output_type": "stream",
          "name": "stdout",
          "text": [
            "Los aminoácidos son: \n",
            "['A', 'F', 'I', 'L', 'M', 'P', 'V', 'W', 'C', 'G', 'H', 'N', 'Q', 'S', 'T', 'Y', 'D', 'E', 'K', 'R']\n",
            "-----------------\n",
            "Las propiedades son: \n",
            "{'Apolar', 'Polar', 'Cargado negativamente', 'Cargado positivamente'}\n"
          ]
        }
      ],
      "source": [
        "#Diccionario de aminoácidos para su clasificación\n",
        "propiedades= {\"A\": \"Apolar\", \"F\": \"Apolar\", \"I\": \"Apolar\", \"L\": \"Apolar\", \"M\": \"Apolar\", \"P\": \"Apolar\",\"V\": \"Apolar\",\"W\": \"Apolar\", \"C\": \"Polar\", \"G\": \"Polar\", \"H\": \"Polar\", \"N\": \"Polar\", \"Q\": \"Polar\", \"S\": \"Polar\", \"T\": \"Polar\", \"Y\": \"Polar\", \"D\": \"Cargado negativamente\", \"E\": \"Cargado negativamente\", \"K\": \"Cargado positivamente\", \"R\": \"Cargado positivamente\"}\n",
        "\n",
        "print(f'Los aminoácidos son: \\n{list(propiedades.keys())}')\n",
        "print('-----------------')\n",
        "print(f'Las propiedades son: \\n{set(propiedades.values())}')\n",
        "# se utiliza un conjunto a partir de la lista para que las propiedades no se repitan"
      ]
    },
    {
      "cell_type": "code",
      "source": [],
      "metadata": {
        "id": "PrH0w4IBozdz"
      },
      "execution_count": null,
      "outputs": []
    },
    {
      "cell_type": "code",
      "execution_count": null,
      "metadata": {
        "id": "IgMwm2pooz6I"
      },
      "outputs": [],
      "source": [
        "secuencia_proteina = \"TXXXAXPARPGXASREXXXXGXSSQRSRRSPEPXPXPAXAARRGDQGSRHRPAXPAXPSPAGSPRPXPRXAAAXPXXXGXGXQXXPXXXXXRXXXDRXPQPGPGGXPRAXQAXAXXXPPSXXXXEATSTTQXXGQAPGTDXGQXEPRGPEGRGPXXAQAXPXXXXXXGAGXXXAHGTQHGXRXPXRSGXGGAPXGXAXAPGDRRRARGARPEGQXXGXXGQXEGQXGAGXXXXRXPXAAPRRRXXXQASXXPXAXXSRGETGXGXXKXAXXXXGXXGTAGGTXPQPXPGXHXXXGRXXPKXPXPXXXPXXXXXPXXXXXTXTPXGRXXGKTDTXXGDXDXEEGXATGXXXTXXSPXXQXPXPXXPXPTXXEXGHPTXXXXXXPTXXXQXXQDQGXXAAXEXAXXXHXXGXHXXGKXRXXRPPXXHXRPEAXDRXXPXXXXPXXXXAXXXPAXPPPHTXPGQRGXXXEXXERTXXRKGARXPXXEXDXXXGGGEGXXRENXXXXXPXXXDXXQXTXKXXXGXGTXXTXXXEQPXXXXXXXXDXXXAXAAXXGQXGPGQPXXXXXXXAXHXEXXXAXXXATXXXXXXEXXXXEXXXRXEXXXXGRRGQPHXXEXXRQXXXGXNTNPHXPXXXQKPAXXXAXXPAXXXSXXKAXXXPXXXXXXXXTXXXPAXXXXGXXGGQDRSQXQAXSKQNXRXXXQXSSRXAETXDXXXXXRXTXXAHXAXTPXHXAGRGXRTHTXXXXQTXHEXQXXHPQXXXXXXXXXXAXXXTXXKXXXXXXKXXGXETXXARXXXGXXXEXXXXXXXXPRTXHQXXKXXXQQXXXHXXXXXXXXXXQXXAXRXKNXXXXGXHXXXXXXXXGXXXXPAXXGAKXGRXXEXRXXRPXXXTXQNXXXXKXXKXXXPGXXAXTXXPSXXGGXGRRXXXTXEAEXAXRQXXHXXXPAXATRAKXXXRKXKNKNKNGXXXXXXPXXXEXXXXXXQPXXXQRXXXQXXXXXXXXXXRRGKXXXXXTPXQEXXXQGAHNXSNXXXXXXXXNXAXXSQXXXXXGXDXXPXXXXRRTPXXXTXRGXXKXQXRXXXAXXXEQEKXKXGEHXXXXXAXXXXXXGXXPQRDKKTXXXPTXXXXGXERAEXTXXKXXXAXXXKARXANXXXXQXKXXXPXPXPXXXETGXXXXGAPXXXXQXXEPXXXGRXGXRXXXQHXGRXRPAXHXRXRXXRPAXPTXXNPXXTKXAKXXXAX\"\n",
        "\n",
        "lista_proteina = list(secuencia_proteina)\n",
        "def total_elements(lista_proteina):\n",
        "    # Se importa el módulo a utilizar\n",
        "    from collections import Counter\n",
        "    # Se crea una lista vacia donde se va a guardar la propiedad de cada aminoácido\n",
        "    list_propiedades_proteina = list(\"\")\n",
        "    contador = list(\"\")\n",
        "\n",
        "    # Se va a iterar por cada aminoácido de la proteína\n",
        "    for element in lista_proteina:\n",
        "\n",
        "        # Se busca la propiedad del aminoácido y se guarda en la lista (.append())\n",
        "        list_propiedades_proteina.append(propiedades[element])\n",
        "        # Se llama al método Counter para organizar los datos\n",
        "        contador = Counter(list_propiedades_proteina)\n",
        "    print(f'Resumen de propiedades de la proteína: \\n{list_propiedades_proteina}')\n",
        "    print(f'Total elementos: {len(lista_proteina)}')\n",
        "    print(f'Frecuenca de las propiedades: {dict(contador)}')\n",
        "    print(f'Propiedad más común: {contador.most_common(1)[0]}')\n",
        "\n",
        "    return None\n"
      ]
    },
    {
      "cell_type": "markdown",
      "metadata": {
        "id": "oQB9CblPul9l"
      },
      "source": [
        "## Conclusiones\n",
        "En este tutorial, comprendido los usos de las herramientas básicas de Python empleadas en las prácticas bioinformáticas, que van desde el manejo y recopilación de datos, hasta el uso de comandos y métodos para su manipulación y análisis. Esto se realizó mediante dos fases, una teórica y una práctica, donde realizamos la expresión del material genético de una proteína desde una secuencia de ADN, hasta obtener los correspondientes aminoácidos y sus propiedades.\n",
        "En los próximos tutoriales, explicaremos más herramientas de Python utilizadas en la recopilación y organización de datos obtenidos de recursos electrónicos, implementando diferentes librerías y su desarrollo.\n"
      ]
    },
    {
      "cell_type": "markdown",
      "metadata": {
        "id": "Hsc1fxNDul9l"
      },
      "source": [
        "# Referencias\n",
        "\n",
        "1. Translation. (2023). Genome.Gov. https://www.genome.gov/genetics-glossary/Translation\n",
        "2. Genetic code. (2023). Genome.Gov. https://www.genome.gov/genetics-glossary/Genetic-Code\n",
        "8. Cortés, G. & Aguilar-Ruiz, J. (2006). Importancia de las Propiedades Físico-Químicas de los Aminoácidos en la Predicción de Estructuras de Proteínas usando Vecinos más Cercanos"
      ]
    }
  ],
  "metadata": {
    "kernelspec": {
      "display_name": "Python 3 (ipykernel)",
      "language": "python",
      "name": "python3"
    },
    "language_info": {
      "codemirror_mode": {
        "name": "ipython",
        "version": 3
      },
      "file_extension": ".py",
      "mimetype": "text/x-python",
      "name": "python",
      "nbconvert_exporter": "python",
      "pygments_lexer": "ipython3",
      "version": "3.8.17"
    },
    "colab": {
      "provenance": [],
      "include_colab_link": true
    }
  },
  "nbformat": 4,
  "nbformat_minor": 0
}